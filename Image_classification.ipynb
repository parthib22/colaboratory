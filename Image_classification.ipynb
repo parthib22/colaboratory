{
  "nbformat": 4,
  "nbformat_minor": 0,
  "metadata": {
    "colab": {
      "provenance": [],
      "mount_file_id": "1AZT9TH2gIUVR_S12JglSHUDp6T0E4fZg",
      "authorship_tag": "ABX9TyP4mJzMzNxgq8j0CQPP7wIk",
      "include_colab_link": true
    },
    "kernelspec": {
      "name": "python3",
      "display_name": "Python 3"
    },
    "language_info": {
      "name": "python"
    }
  },
  "cells": [
    {
      "cell_type": "markdown",
      "metadata": {
        "id": "view-in-github",
        "colab_type": "text"
      },
      "source": [
        "<a href=\"https://colab.research.google.com/github/parthib22/colaboratory/blob/main/Image_classification.ipynb\" target=\"_parent\"><img src=\"https://colab.research.google.com/assets/colab-badge.svg\" alt=\"Open In Colab\"/></a>"
      ]
    },
    {
      "cell_type": "code",
      "execution_count": null,
      "metadata": {
        "id": "Lqjo_2WExgZG"
      },
      "outputs": [],
      "source": [
        "# Import necessary libraries\n",
        "import tensorflow as tf\n",
        "from tensorflow.keras.preprocessing import image\n",
        "from tensorflow.keras.applications.mobilenet_v2 import MobileNetV2, preprocess_input, decode_predictions\n",
        "import numpy as np"
      ]
    },
    {
      "cell_type": "code",
      "source": [
        "# Load the pre-trained MobileNetV2 model\n",
        "model = MobileNetV2(weights='imagenet')"
      ],
      "metadata": {
        "id": "WC1D7tV9yNXh"
      },
      "execution_count": null,
      "outputs": []
    },
    {
      "cell_type": "code",
      "source": [
        "# Function to classify an image\n",
        "def classify_image(image_path):\n",
        "    # Load and preprocess the image\n",
        "    img = image.load_img(image_path, target_size=(224, 224))\n",
        "    img_array = image.img_to_array(img)\n",
        "    img_array = np.expand_dims(img_array, axis=0)\n",
        "    img_array = preprocess_input(img_array)\n",
        "\n",
        "    # Make a prediction\n",
        "    predictions = model.predict(img_array)\n",
        "\n",
        "    # Decode and print the top-3 predicted classes\n",
        "    decoded_predictions = decode_predictions(predictions, top=3)[0]\n",
        "    print(\"Predictions:\")\n",
        "    for i, (imagenet_id, label, score) in enumerate(decoded_predictions):\n",
        "        print(f\"{i + 1}: {label} ({score:.2f})\")"
      ],
      "metadata": {
        "id": "lTEy1xt2yUFj"
      },
      "execution_count": null,
      "outputs": []
    },
    {
      "cell_type": "code",
      "source": [
        "# Example usage\n",
        "# image_path = 'sample_data/6.jpg'\n",
        "classify_image('sample_data/2.jpg')\n",
        "classify_image('sample_data/4.jpg')\n",
        "classify_image('sample_data/5.jpg')\n",
        "classify_image('sample_data/6.jpg')"
      ],
      "metadata": {
        "colab": {
          "base_uri": "https://localhost:8080/"
        },
        "id": "6Juv-3JuyZAN",
        "outputId": "e109e7ab-353f-4b4e-9f04-42a22f1b5a9b"
      },
      "execution_count": null,
      "outputs": [
        {
          "output_type": "stream",
          "name": "stdout",
          "text": [
            "1/1 [==============================] - 0s 145ms/step\n",
            "Predictions:\n",
            "1: fountain (0.32)\n",
            "2: valley (0.22)\n",
            "3: castle (0.06)\n",
            "1/1 [==============================] - 0s 80ms/step\n",
            "Predictions:\n",
            "1: Eskimo_dog (0.59)\n",
            "2: Siberian_husky (0.13)\n",
            "3: white_wolf (0.03)\n",
            "1/1 [==============================] - 0s 85ms/step\n",
            "Predictions:\n",
            "1: swing (0.25)\n",
            "2: sundial (0.13)\n",
            "3: volleyball (0.05)\n",
            "1/1 [==============================] - 0s 97ms/step\n",
            "Predictions:\n",
            "1: nail (0.45)\n",
            "2: bubble (0.27)\n",
            "3: tennis_ball (0.04)\n"
          ]
        }
      ]
    }
  ]
}