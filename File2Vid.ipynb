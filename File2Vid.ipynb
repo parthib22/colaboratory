{
  "nbformat": 4,
  "nbformat_minor": 0,
  "metadata": {
    "colab": {
      "provenance": [],
      "authorship_tag": "ABX9TyNX5/8SwustabekyLxfh2b9",
      "include_colab_link": true
    },
    "kernelspec": {
      "name": "python3",
      "display_name": "Python 3"
    },
    "language_info": {
      "name": "python"
    }
  },
  "cells": [
    {
      "cell_type": "markdown",
      "metadata": {
        "id": "view-in-github",
        "colab_type": "text"
      },
      "source": [
        "<a href=\"https://colab.research.google.com/github/parthib22/colaboratory/blob/main/File2Vid.ipynb\" target=\"_parent\"><img src=\"https://colab.research.google.com/assets/colab-badge.svg\" alt=\"Open In Colab\"/></a>"
      ]
    },
    {
      "cell_type": "code",
      "source": [
        "!pip install pillow numpy"
      ],
      "metadata": {
        "colab": {
          "base_uri": "https://localhost:8080/"
        },
        "id": "wuc4OvOsp08b",
        "outputId": "acc1a671-502b-466e-86d3-130481464a38"
      },
      "execution_count": null,
      "outputs": [
        {
          "output_type": "stream",
          "name": "stdout",
          "text": [
            "Requirement already satisfied: pillow in /usr/local/lib/python3.11/dist-packages (11.1.0)\n",
            "Requirement already satisfied: numpy in /usr/local/lib/python3.11/dist-packages (1.26.4)\n"
          ]
        }
      ]
    },
    {
      "cell_type": "code",
      "source": [
        "from PIL import Image\n",
        "import numpy as np\n",
        "import os"
      ],
      "metadata": {
        "id": "VVN8vF9xpy0b"
      },
      "execution_count": null,
      "outputs": []
    },
    {
      "cell_type": "markdown",
      "source": [
        "**ENCODING**"
      ],
      "metadata": {
        "id": "boQkeINYoTm4"
      }
    },
    {
      "cell_type": "code",
      "source": [
        "def get_ext(file_path):\n",
        "    extension = ''\n",
        "    ptr = len(file_path) - 1\n",
        "\n",
        "    while ptr > -1 and file_path[ptr] != '.':\n",
        "        ptr -= 1\n",
        "\n",
        "    if ptr > -1:\n",
        "        extension = file_path[ptr:]\n",
        "\n",
        "    return extension"
      ],
      "metadata": {
        "id": "siCSTY59owOt"
      },
      "execution_count": null,
      "outputs": []
    },
    {
      "cell_type": "code",
      "execution_count": null,
      "metadata": {
        "id": "Q6QBJ3qkoRy0"
      },
      "outputs": [],
      "source": [
        "def f2b(file_path):\n",
        "    try:\n",
        "        with open(file_path, 'rb') as file:\n",
        "            binary_data = file.read()\n",
        "            binary_string = ''.join(format(byte, '08b') for byte in binary_data)\n",
        "            return binary_string\n",
        "    except FileNotFoundError:\n",
        "        return \"File not found.\"\n",
        "    except Exception as e:\n",
        "        return f\"An error occurred: {e}\""
      ]
    },
    {
      "cell_type": "code",
      "source": [
        "def b2i(_bin, width, height, temp_dir='temp'):\n",
        "    # Total pixels per image\n",
        "    pixels_per_image = width * height\n",
        "\n",
        "    # Split the binary string into chunks of size pixels_per_image\n",
        "    num_images = len(_bin) // pixels_per_image\n",
        "    remainder = len(_bin) % pixels_per_image\n",
        "\n",
        "    if not os.path.exists(temp_dir):\n",
        "      os.makedirs(temp_dir)\n",
        "\n",
        "    # Create images for each chunk\n",
        "    for i in range(num_images):\n",
        "        chunk = _bin[i * pixels_per_image:(i + 1) * pixels_per_image]\n",
        "        create_image_from_binary(temp_dir, chunk, width, height, f\"{i + 1}.png\")\n",
        "\n",
        "    # Handle the remainder (if any)\n",
        "    if remainder > 0:\n",
        "        chunk = _bin[num_images * pixels_per_image:]\n",
        "        # Pad the remaining chunk to fit into a full image\n",
        "        chunk = chunk.ljust(pixels_per_image, '0')  # Pad with '0's\n",
        "        create_image_from_binary(temp_dir, chunk, width, height, f\"{num_images + 1}.png\")\n",
        "\n",
        "    return f\"Generated {num_images + (1 if remainder > 0 else 0)} image(s).\"\n",
        "\n",
        "def create_image_from_binary(temp_dir, binary_chunk, width, height, output_file):\n",
        "    # Convert the binary string to a NumPy array of pixel values\n",
        "    pixel_values = np.array([255 if bit == '1' else 0 for bit in binary_chunk], dtype=np.uint8)\n",
        "\n",
        "    # Reshape the array to match the image dimensions\n",
        "    image_array = pixel_values.reshape((height, width))\n",
        "\n",
        "    # Create and save the image\n",
        "    image = Image.fromarray(image_array)\n",
        "    save_path = os.path.join(temp_dir, os.path.basename(output_file))\n",
        "    image.save(save_path)\n",
        "    image"
      ],
      "metadata": {
        "id": "gsYHx8rwpBzo"
      },
      "execution_count": null,
      "outputs": []
    },
    {
      "cell_type": "code",
      "source": [
        "# ONLY TO DELETE THE TEMP FOLDER\n",
        "import shutil\n",
        "\n",
        "def del_temp():\n",
        "    shutil.rmtree('temp')"
      ],
      "metadata": {
        "id": "qb8PO7PPD435"
      },
      "execution_count": null,
      "outputs": []
    },
    {
      "cell_type": "code",
      "source": [
        "import cv2\n",
        "import os\n",
        "# from glob import glob\n",
        "\n",
        "def i2v(folder_path, output_video_path, fps=30):\n",
        "    # Get all image file paths in the folder\n",
        "    # image_files = sorted(glob(os.path.join(folder_path, \"*.png\")))  # Change to \"*.jpg\" if needed\n",
        "\n",
        "    files = len(os.listdir(folder_path))\n",
        "    image_files = [os.path.join(folder_path, os.path.basename(f\"{i + 1}.png\")) for i in range(files)]\n",
        "\n",
        "    if not image_files:\n",
        "        print(\"No images found in the folder.\")\n",
        "        return\n",
        "\n",
        "    # Read the first image to get the dimensions\n",
        "    first_image = cv2.imread(image_files[0])\n",
        "    height, width, _ = first_image.shape\n",
        "\n",
        "    # Define the video codec and create VideoWriter object\n",
        "    # Preserve the original bitrate (optional, depends on codec support)\n",
        "    fourcc = cv2.VideoWriter_fourcc(*'mp4v')  # Use 'XVID' or other codecs if needed\n",
        "    out = cv2.VideoWriter(output_video_path, fourcc, fps, (width, height))\n",
        "\n",
        "    print(f\"Creating video: {output_video_path} with FPS: {fps}\")\n",
        "\n",
        "    for image_file in image_files:\n",
        "        # Read each image\n",
        "        frame = cv2.imread(image_file)\n",
        "\n",
        "        # Ensure the dimensions match\n",
        "        if frame.shape[:2] != (height, width):\n",
        "            print(f\"Skipping {image_file}: Dimensions do not match!\")\n",
        "            continue\n",
        "\n",
        "        # Write the frame to the video\n",
        "        out.write(frame)\n",
        "\n",
        "    # Release the video writer\n",
        "    out.release()\n",
        "    print(\"Video created successfully!\")\n"
      ],
      "metadata": {
        "id": "AoHXVSu5cGnN"
      },
      "execution_count": null,
      "outputs": []
    },
    {
      "cell_type": "markdown",
      "source": [
        "**DECODING**"
      ],
      "metadata": {
        "id": "FInUAmSEoYFx"
      }
    },
    {
      "cell_type": "code",
      "source": [
        "import cv2\n",
        "import os\n",
        "\n",
        "def v2i(video_path, output_folder=\"temp\"):\n",
        "    # Create the output folder if it doesn't exist\n",
        "    if not os.path.exists(output_folder):\n",
        "        os.makedirs(output_folder)\n",
        "\n",
        "    # Open the video file\n",
        "    cap = cv2.VideoCapture(video_path)\n",
        "    if not cap.isOpened():\n",
        "        print(\"Error: Cannot open video file.\")\n",
        "        return\n",
        "\n",
        "    # Frame counter\n",
        "    frame_count = 0\n",
        "\n",
        "    print(f\"Extracting frames from video: {video_path}\")\n",
        "    while True:\n",
        "        # Read the next frame\n",
        "        ret, frame = cap.read()\n",
        "        if not ret:\n",
        "            break  # Break if there are no more frames\n",
        "\n",
        "        # Save the frame as an image\n",
        "        frame_count += 1\n",
        "        output_path = os.path.join(output_folder, f\"{frame_count}.png\")\n",
        "        cv2.imwrite(output_path, frame)\n",
        "\n",
        "        print(f\"Saved frame {frame_count} as {output_path}\")\n",
        "\n",
        "    # Release the video capture\n",
        "    cap.release()\n",
        "    print(f\"Extraction complete. {frame_count} frames saved in '{output_folder}'.\")\n"
      ],
      "metadata": {
        "id": "zFlRK0iKeK2n"
      },
      "execution_count": null,
      "outputs": []
    },
    {
      "cell_type": "code",
      "source": [
        "def i2b(image_paths):\n",
        "    _bin = \"\"\n",
        "\n",
        "    for image_path in image_paths:\n",
        "        # Open the image and convert it to grayscale\n",
        "        image = Image.open(image_path).convert('L')  # Convert to grayscale\n",
        "\n",
        "        # Convert the image to a NumPy array\n",
        "        image_array = np.array(image)\n",
        "\n",
        "        # Map pixel values to binary:\n",
        "        # - White (255) -> '1'\n",
        "        # - Black (0) -> '0'\n",
        "        binary_chunk = ''.join('1' if pixel == 255 else '0' for pixel in image_array.flatten())\n",
        "\n",
        "        # Append the binary chunk to the full binary string\n",
        "        _bin += binary_chunk\n",
        "\n",
        "    return _bin\n"
      ],
      "metadata": {
        "id": "bMkueNGwpJsb"
      },
      "execution_count": null,
      "outputs": []
    },
    {
      "cell_type": "code",
      "source": [
        "def b2f(binary_string, output_file_path):\n",
        "    try:\n",
        "        # Split the binary string into chunks of 8 bits\n",
        "        byte_data = [binary_string[i:i + 8] for i in range(0, len(binary_string), 8)]\n",
        "\n",
        "        # Convert each chunk of 8 bits to a byte\n",
        "        byte_array = bytearray(int(byte, 2) for byte in byte_data)\n",
        "\n",
        "        # Write the byte array to a file\n",
        "        with open(output_file_path, 'wb') as file:\n",
        "            file.write(byte_array)\n",
        "\n",
        "        return f\"File has been written to {output_file_path}\"\n",
        "    except Exception as e:\n",
        "        return f\"An error occurred: {e}\""
      ],
      "metadata": {
        "id": "DOLUsAWhoaZm"
      },
      "execution_count": null,
      "outputs": []
    },
    {
      "cell_type": "markdown",
      "source": [
        "**MAIN**"
      ],
      "metadata": {
        "id": "LSExD8mtqMte"
      }
    },
    {
      "cell_type": "code",
      "source": [
        "file_path = '1093662-hd_1920_1080_30fps.mp4'\n",
        "\n",
        "extension = get_ext(file_path)\n",
        "print(extension)\n",
        "\n",
        "_bin = f2b(file_path)\n",
        "\n",
        "print(len(_bin))\n",
        "\n",
        "temp_dir = \"temp\"\n",
        "\n",
        "result = b2i(_bin, 1280, 720, temp_dir)\n",
        "print(result)\n",
        "\n",
        "folder_path = \"temp\"\n",
        "output_video_path = \"encoded.mp4\"\n",
        "i2v(folder_path, output_video_path, fps=30)\n",
        "\n",
        "del_temp()"
      ],
      "metadata": {
        "colab": {
          "base_uri": "https://localhost:8080/"
        },
        "id": "uOqYVA3GqMWu",
        "outputId": "e16e3eb8-8f57-47bd-ae50-e3772179eea7"
      },
      "execution_count": null,
      "outputs": [
        {
          "output_type": "stream",
          "name": "stdout",
          "text": [
            ".mp4\n",
            "41564968\n",
            "Generated 46 image(s).\n",
            "Creating video: encoded.mp4 with FPS: 30\n",
            "Video created successfully!\n"
          ]
        }
      ]
    },
    {
      "cell_type": "code",
      "source": [
        "video_path = \"encoded.mp4\"\n",
        "v2i(video_path)\n",
        "\n",
        "# image_paths = [f\"image_{i+1}.png\" for i in range(21)]  # Replace with your\n",
        "files = len(os.listdir('temp'))\n",
        "print(files)\n",
        "\n",
        "temp_dir = 'temp'\n",
        "\n",
        "image_paths = [os.path.join(temp_dir,os.path.basename(f\"{i + 1}.png\")) for i in range(files)]\n",
        "print(image_paths)\n",
        "# image file paths\n",
        "_bin2 = i2b(image_paths)\n",
        "print(f\"Binary String Length: {len(_bin2)}\")\n",
        "print(_bin == _bin2[:len(_bin)])\n",
        "\n",
        "output_file_path = 'hehehe' + extension\n",
        "result = b2f(_bin2, output_file_path)\n",
        "\n",
        "del_temp()"
      ],
      "metadata": {
        "colab": {
          "base_uri": "https://localhost:8080/"
        },
        "id": "fxb2kxFhqivP",
        "outputId": "1cce2d2b-f1d6-4054-f01e-bff27618f888"
      },
      "execution_count": null,
      "outputs": [
        {
          "output_type": "stream",
          "name": "stdout",
          "text": [
            "Extracting frames from video: encoded.mp4\n",
            "Saved frame 1 as temp/1.png\n",
            "Saved frame 2 as temp/2.png\n",
            "Saved frame 3 as temp/3.png\n",
            "Saved frame 4 as temp/4.png\n",
            "Saved frame 5 as temp/5.png\n",
            "Saved frame 6 as temp/6.png\n",
            "Saved frame 7 as temp/7.png\n",
            "Saved frame 8 as temp/8.png\n",
            "Saved frame 9 as temp/9.png\n",
            "Saved frame 10 as temp/10.png\n",
            "Saved frame 11 as temp/11.png\n",
            "Saved frame 12 as temp/12.png\n",
            "Saved frame 13 as temp/13.png\n",
            "Saved frame 14 as temp/14.png\n",
            "Saved frame 15 as temp/15.png\n",
            "Saved frame 16 as temp/16.png\n",
            "Saved frame 17 as temp/17.png\n",
            "Saved frame 18 as temp/18.png\n",
            "Saved frame 19 as temp/19.png\n",
            "Saved frame 20 as temp/20.png\n",
            "Saved frame 21 as temp/21.png\n",
            "Saved frame 22 as temp/22.png\n",
            "Saved frame 23 as temp/23.png\n",
            "Saved frame 24 as temp/24.png\n",
            "Saved frame 25 as temp/25.png\n",
            "Saved frame 26 as temp/26.png\n",
            "Saved frame 27 as temp/27.png\n",
            "Saved frame 28 as temp/28.png\n",
            "Saved frame 29 as temp/29.png\n",
            "Saved frame 30 as temp/30.png\n",
            "Saved frame 31 as temp/31.png\n",
            "Saved frame 32 as temp/32.png\n",
            "Saved frame 33 as temp/33.png\n",
            "Saved frame 34 as temp/34.png\n",
            "Saved frame 35 as temp/35.png\n",
            "Saved frame 36 as temp/36.png\n",
            "Saved frame 37 as temp/37.png\n",
            "Saved frame 38 as temp/38.png\n",
            "Saved frame 39 as temp/39.png\n",
            "Saved frame 40 as temp/40.png\n",
            "Saved frame 41 as temp/41.png\n",
            "Saved frame 42 as temp/42.png\n",
            "Saved frame 43 as temp/43.png\n",
            "Saved frame 44 as temp/44.png\n",
            "Saved frame 45 as temp/45.png\n",
            "Saved frame 46 as temp/46.png\n",
            "Extraction complete. 46 frames saved in 'temp'.\n",
            "46\n",
            "['temp/1.png', 'temp/2.png', 'temp/3.png', 'temp/4.png', 'temp/5.png', 'temp/6.png', 'temp/7.png', 'temp/8.png', 'temp/9.png', 'temp/10.png', 'temp/11.png', 'temp/12.png', 'temp/13.png', 'temp/14.png', 'temp/15.png', 'temp/16.png', 'temp/17.png', 'temp/18.png', 'temp/19.png', 'temp/20.png', 'temp/21.png', 'temp/22.png', 'temp/23.png', 'temp/24.png', 'temp/25.png', 'temp/26.png', 'temp/27.png', 'temp/28.png', 'temp/29.png', 'temp/30.png', 'temp/31.png', 'temp/32.png', 'temp/33.png', 'temp/34.png', 'temp/35.png', 'temp/36.png', 'temp/37.png', 'temp/38.png', 'temp/39.png', 'temp/40.png', 'temp/41.png', 'temp/42.png', 'temp/43.png', 'temp/44.png', 'temp/45.png', 'temp/46.png']\n",
            "Binary String Length: 42393600\n",
            "False\n"
          ]
        }
      ]
    },
    {
      "cell_type": "markdown",
      "source": [
        "it didnot work as planned, the vid is not playing"
      ],
      "metadata": {
        "id": "ZK6mcaxokr-g"
      }
    }
  ]
}