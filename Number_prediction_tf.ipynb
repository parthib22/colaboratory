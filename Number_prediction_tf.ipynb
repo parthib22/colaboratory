{
  "nbformat": 4,
  "nbformat_minor": 0,
  "metadata": {
    "colab": {
      "provenance": [],
      "authorship_tag": "ABX9TyNopsyo08Sld/bJKJs9rW0P",
      "include_colab_link": true
    },
    "kernelspec": {
      "name": "python3",
      "display_name": "Python 3"
    },
    "language_info": {
      "name": "python"
    }
  },
  "cells": [
    {
      "cell_type": "markdown",
      "metadata": {
        "id": "view-in-github",
        "colab_type": "text"
      },
      "source": [
        "<a href=\"https://colab.research.google.com/github/parthib22/colaboratory/blob/main/Number_prediction_tf.ipynb\" target=\"_parent\"><img src=\"https://colab.research.google.com/assets/colab-badge.svg\" alt=\"Open In Colab\"/></a>"
      ]
    },
    {
      "cell_type": "code",
      "execution_count": null,
      "metadata": {
        "id": "hUV4tR6pvhu8"
      },
      "outputs": [],
      "source": [
        "# Import necessary libraries\n",
        "import numpy as np\n",
        "import tensorflow as tf\n",
        "from tensorflow.keras.models import Sequential\n",
        "from tensorflow.keras.layers import Dense\n",
        "from sklearn.model_selection import train_test_split\n",
        "from sklearn.metrics import accuracy_score"
      ]
    },
    {
      "cell_type": "code",
      "source": [
        "# Generate some sample data\n",
        "np.random.seed(42)\n",
        "X = np.random.rand(100, 1)\n",
        "y = 3 * X + 1 + 0.1 * np.random.randn(100, 1)"
      ],
      "metadata": {
        "id": "4SQ6Px6ryZLW"
      },
      "execution_count": null,
      "outputs": []
    },
    {
      "cell_type": "code",
      "source": [
        "# Split the data into training and testing sets\n",
        "X_train, X_test, y_train, y_test = train_test_split(X, y, test_size=0.2, random_state=42)"
      ],
      "metadata": {
        "id": "7VcbKZsqye-T"
      },
      "execution_count": null,
      "outputs": []
    },
    {
      "cell_type": "code",
      "source": [
        "# Build a simple neural network model\n",
        "model = Sequential()\n",
        "model.add(Dense(units=1, input_dim=1, activation='linear'))"
      ],
      "metadata": {
        "id": "E2xPHtDYyi9m"
      },
      "execution_count": null,
      "outputs": []
    },
    {
      "cell_type": "code",
      "source": [
        "# Compile the model\n",
        "model.compile(optimizer='sgd', loss='mean_squared_error')"
      ],
      "metadata": {
        "id": "j1DubLD6ymVm"
      },
      "execution_count": null,
      "outputs": []
    },
    {
      "cell_type": "code",
      "source": [
        "# Train the model\n",
        "model.fit(X_train, y_train, epochs=50, batch_size=1, verbose=1)"
      ],
      "metadata": {
        "colab": {
          "base_uri": "https://localhost:8080/"
        },
        "id": "PcmetYBUyqZn",
        "outputId": "3c421800-21aa-4493-a412-e01098c6db20"
      },
      "execution_count": null,
      "outputs": [
        {
          "output_type": "stream",
          "name": "stdout",
          "text": [
            "Epoch 1/50\n",
            "80/80 [==============================] - 0s 1ms/step - loss: 1.9992\n",
            "Epoch 2/50\n",
            "80/80 [==============================] - 0s 1ms/step - loss: 0.3295\n",
            "Epoch 3/50\n",
            "80/80 [==============================] - 0s 1ms/step - loss: 0.2414\n",
            "Epoch 4/50\n",
            "80/80 [==============================] - 0s 1ms/step - loss: 0.1947\n",
            "Epoch 5/50\n",
            "80/80 [==============================] - 0s 1ms/step - loss: 0.1576\n",
            "Epoch 6/50\n",
            "80/80 [==============================] - 0s 1ms/step - loss: 0.1277\n",
            "Epoch 7/50\n",
            "80/80 [==============================] - 0s 2ms/step - loss: 0.1041\n",
            "Epoch 8/50\n",
            "80/80 [==============================] - 0s 1ms/step - loss: 0.0851\n",
            "Epoch 9/50\n",
            "80/80 [==============================] - 0s 2ms/step - loss: 0.0700\n",
            "Epoch 10/50\n",
            "80/80 [==============================] - 0s 2ms/step - loss: 0.0577\n",
            "Epoch 11/50\n",
            "80/80 [==============================] - 0s 1ms/step - loss: 0.0474\n",
            "Epoch 12/50\n",
            "80/80 [==============================] - 0s 1ms/step - loss: 0.0400\n",
            "Epoch 13/50\n",
            "80/80 [==============================] - 0s 1ms/step - loss: 0.0334\n",
            "Epoch 14/50\n",
            "80/80 [==============================] - 0s 2ms/step - loss: 0.0289\n",
            "Epoch 15/50\n",
            "80/80 [==============================] - 0s 3ms/step - loss: 0.0248\n",
            "Epoch 16/50\n",
            "80/80 [==============================] - 0s 5ms/step - loss: 0.0216\n",
            "Epoch 17/50\n",
            "80/80 [==============================] - 0s 4ms/step - loss: 0.0189\n",
            "Epoch 18/50\n",
            "80/80 [==============================] - 0s 4ms/step - loss: 0.0171\n",
            "Epoch 19/50\n",
            "80/80 [==============================] - 0s 4ms/step - loss: 0.0154\n",
            "Epoch 20/50\n",
            "80/80 [==============================] - 0s 4ms/step - loss: 0.0139\n",
            "Epoch 21/50\n",
            "80/80 [==============================] - 0s 4ms/step - loss: 0.0130\n",
            "Epoch 22/50\n",
            "80/80 [==============================] - 0s 4ms/step - loss: 0.0121\n",
            "Epoch 23/50\n",
            "80/80 [==============================] - 0s 5ms/step - loss: 0.0114\n",
            "Epoch 24/50\n",
            "80/80 [==============================] - 0s 5ms/step - loss: 0.0109\n",
            "Epoch 25/50\n",
            "80/80 [==============================] - 0s 5ms/step - loss: 0.0105\n",
            "Epoch 26/50\n",
            "80/80 [==============================] - 0s 3ms/step - loss: 0.0101\n",
            "Epoch 27/50\n",
            "80/80 [==============================] - 0s 2ms/step - loss: 0.0096\n",
            "Epoch 28/50\n",
            "80/80 [==============================] - 0s 3ms/step - loss: 0.0096\n",
            "Epoch 29/50\n",
            "80/80 [==============================] - 0s 2ms/step - loss: 0.0094\n",
            "Epoch 30/50\n",
            "80/80 [==============================] - 0s 1ms/step - loss: 0.0093\n",
            "Epoch 31/50\n",
            "80/80 [==============================] - 0s 1ms/step - loss: 0.0091\n",
            "Epoch 32/50\n",
            "80/80 [==============================] - 0s 1ms/step - loss: 0.0090\n",
            "Epoch 33/50\n",
            "80/80 [==============================] - 0s 1ms/step - loss: 0.0090\n",
            "Epoch 34/50\n",
            "80/80 [==============================] - 0s 3ms/step - loss: 0.0089\n",
            "Epoch 35/50\n",
            "80/80 [==============================] - 0s 1ms/step - loss: 0.0088\n",
            "Epoch 36/50\n",
            "80/80 [==============================] - 0s 1ms/step - loss: 0.0088\n",
            "Epoch 37/50\n",
            "80/80 [==============================] - 0s 1ms/step - loss: 0.0086\n",
            "Epoch 38/50\n",
            "80/80 [==============================] - 0s 1ms/step - loss: 0.0088\n",
            "Epoch 39/50\n",
            "80/80 [==============================] - 0s 1ms/step - loss: 0.0088\n",
            "Epoch 40/50\n",
            "80/80 [==============================] - 0s 1ms/step - loss: 0.0087\n",
            "Epoch 41/50\n",
            "80/80 [==============================] - 0s 1ms/step - loss: 0.0087\n",
            "Epoch 42/50\n",
            "80/80 [==============================] - 0s 1ms/step - loss: 0.0087\n",
            "Epoch 43/50\n",
            "80/80 [==============================] - 0s 1ms/step - loss: 0.0087\n",
            "Epoch 44/50\n",
            "80/80 [==============================] - 0s 1ms/step - loss: 0.0086\n",
            "Epoch 45/50\n",
            "80/80 [==============================] - 0s 1ms/step - loss: 0.0087\n",
            "Epoch 46/50\n",
            "80/80 [==============================] - 0s 1ms/step - loss: 0.0087\n",
            "Epoch 47/50\n",
            "80/80 [==============================] - 0s 1ms/step - loss: 0.0086\n",
            "Epoch 48/50\n",
            "80/80 [==============================] - 0s 1ms/step - loss: 0.0086\n",
            "Epoch 49/50\n",
            "80/80 [==============================] - 0s 1ms/step - loss: 0.0087\n",
            "Epoch 50/50\n",
            "80/80 [==============================] - 0s 1ms/step - loss: 0.0087\n"
          ]
        },
        {
          "output_type": "execute_result",
          "data": {
            "text/plain": [
              "<keras.src.callbacks.History at 0x7fddeb22f9d0>"
            ]
          },
          "metadata": {},
          "execution_count": 9
        }
      ]
    },
    {
      "cell_type": "code",
      "source": [
        "# Make predictions on the test set\n",
        "y_pred = model.predict(X_test)"
      ],
      "metadata": {
        "colab": {
          "base_uri": "https://localhost:8080/"
        },
        "id": "O8CBC62Nysz_",
        "outputId": "4b36b29f-d6db-42c6-e867-517d797f7130"
      },
      "execution_count": null,
      "outputs": [
        {
          "output_type": "stream",
          "name": "stdout",
          "text": [
            "1/1 [==============================] - 0s 29ms/step\n"
          ]
        }
      ]
    },
    {
      "cell_type": "code",
      "source": [
        "\n",
        "# Evaluate the model\n",
        "accuracy = accuracy_score(np.round(y_test), np.round(y_pred))\n",
        "print(f'Accuracy: {accuracy}')"
      ],
      "metadata": {
        "colab": {
          "base_uri": "https://localhost:8080/"
        },
        "id": "7lR-FDnjyve4",
        "outputId": "0316705f-2901-49a7-8596-ef3e74170971"
      },
      "execution_count": null,
      "outputs": [
        {
          "output_type": "stream",
          "name": "stdout",
          "text": [
            "Accuracy: 1.0\n"
          ]
        }
      ]
    },
    {
      "cell_type": "code",
      "source": [
        "\n",
        "# Visualize the results\n",
        "import matplotlib.pyplot as plt\n",
        "\n",
        "plt.scatter(X_test, y_test, color='black', label='Actual')\n",
        "plt.scatter(X_test, y_pred, color='blue', label='Predicted')\n",
        "plt.xlabel('X')\n",
        "plt.ylabel('y')\n",
        "plt.legend()\n",
        "plt.show()"
      ],
      "metadata": {
        "id": "Ede9-Fcry1fD",
        "outputId": "1086ddc7-0c07-44fd-ca06-cb0f724d8c1a",
        "colab": {
          "base_uri": "https://localhost:8080/",
          "height": 275
        }
      },
      "execution_count": null,
      "outputs": [
        {
          "output_type": "display_data",
          "data": {
            "text/plain": [
              "<Figure size 640x480 with 1 Axes>"
            ],
            "image/png": "[encoded data removed]"
          },
          "metadata": {}
        }
      ]
    }
  ]
}